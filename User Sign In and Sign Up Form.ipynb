{
 "cells": [
  {
   "cell_type": "code",
   "execution_count": 1,
   "id": "a86913d6",
   "metadata": {},
   "outputs": [],
   "source": [
    "# Your program should validate/authenticate entered credentials for existing users or create new accounts for new users\n",
    "# 1 Create \"Credentials.txt\" file\n",
    "# 2 Add the following information into your Credentials.txt file <Name, Password>\n",
    "# Sarah,12ssr\n",
    "# Lisa,pass\n",
    "# Donna,D00N\n",
    "# 3 Create login function that takes two inputs (name,password)\n",
    "# .1 Ask the user to enter their username and password\n",
    "# .2 search if the names exist in the Credentials.txt file\n",
    "# .2.1 if the name was found, check if the password is correct\n",
    "# .2.2 return \"Welcome if the name and password were corre\n",
    "# .2.3 else return \"wrong name or password\"\n",
    "# .2 if the name doesn't exist return \"your name doesn't exist, please create\n",
    "# Create sign_Up function that takes two inputs(newName,newPassword)\n",
    "# Ask user to enter their name and password\n",
    "# append the new information into the Credentials.txt file, follow the same fo\n",
    "# 5 Test your program by logging in using the new account"
   ]
  },
  {
   "cell_type": "code",
   "execution_count": 2,
   "id": "9c73742a",
   "metadata": {},
   "outputs": [],
   "source": [
    "import os \n",
    "import json\n",
    "\n",
    "file_path = 'Credentials.txt'  #Create \"Credentials.txt\" file\n",
    "\n",
    "#Add the following information into your Credentials.txt file <Name, Password>\n",
    "# Sarah,12ssr\n",
    "# Lisa,pass\n",
    "# Donna,D00N\n",
    "credentials = {'Sarah': '12ssr','Lisa': 'pass', 'Donna': 'D00N'} \n",
    "\n",
    "with open(file_path, 'a') as file:\n",
    "    for key, value in credentials.items():\n",
    "        file.write(f'{key}:{value}\\n')\n",
    "        "
   ]
  },
  {
   "cell_type": "code",
   "execution_count": 18,
   "id": "aab61bf3",
   "metadata": {},
   "outputs": [
    {
     "name": "stdout",
     "output_type": "stream",
     "text": [
      "Enter 1 to login, 2 to create an account, or 3 to exit: 1\n",
      "Enter your username: Connor\n",
      "Enter your password: Ar$enalfan\n",
      "Username does not exist. Please create an account.\n",
      "Enter your username: Connor\n",
      "Choose your password: Ar$enalfan\n",
      "Account created successfully!\n"
     ]
    }
   ],
   "source": [
    "def login(): #Create login function that takes two inputs (name,password)\n",
    "    \n",
    "    #Ask the user to enter their username and password\n",
    "    username = input('Enter your username: ') \n",
    "    password = input('Enter your password: ') \n",
    "    \n",
    "    #Read the Credentials.txt file\n",
    "    with open('Credentials.txt', 'r') as file:\n",
    "        credentials = file.readlines()\n",
    "    \n",
    "    #Check if the user exists\n",
    "    user_found = False\n",
    "    \n",
    "    for line in credentials:\n",
    "        if username == line.split(':')[0]:\n",
    "            user_found = True\n",
    "            #Check if the passsword is correct\n",
    "            if password == line.split(':')[1].strip():\n",
    "                return f'Successful Login. Welcome {username}'   #return \"Welcome\" if the name and password were correct\n",
    "            else:\n",
    "                print('Wrong password. Please try again.')  # if password is wrong, prompted to reenter password until correct\n",
    "                password = input('Enter your password: ')\n",
    "                while password != line.split(':')[1].strip():\n",
    "                    password = input('Wrong password. Please enter your password: ')\n",
    "                return f'Successful Login. Welcome {username}.'\n",
    "    if not user_found:\n",
    "        return 'Username does not exist. Please create an account.'  #if the name doesn't exist return \"your name doesn't exist, please create \n",
    " \n",
    "def sign_up():  #Create sign_Up function that takes two inputs(newName,newPassword)\n",
    "    \n",
    "    while True:\n",
    "        #Ask user to enter their name and password\n",
    "        newName = input('Enter your username: ')\n",
    "        \n",
    "        #Check if the user already exists\n",
    "        username_exists = False\n",
    "        \n",
    "        with open('Credentials.txt', 'r') as file:\n",
    "            credentials = file.readlines()\n",
    "    \n",
    "        for line in credentials:\n",
    "            if newName==line.split(':')[0]:\n",
    "                print('Username already exists. Please choose another username.')\n",
    "                username_exists = True\n",
    "                break\n",
    "    \n",
    "        if not username_exists:\n",
    "            newPassword = input('Choose your password: ')\n",
    "            # append the new information into the Credentials.txt file, follow the same format\n",
    "            with open('Credentials.txt', 'a') as file:\n",
    "                file.write(f'{newName}:{newPassword}\\n')\n",
    "    \n",
    "            return 'Account created successfully!'\n",
    "            break\n",
    "\n",
    "# Main Program\n",
    "choice = \"\"\n",
    "while choice not in ['1','2','3']:\n",
    "    # Get user input\n",
    "    choice = input('Enter 1 to login, 2 to create an account, or 3 to exit: ')\n",
    "    \n",
    "    # Login\n",
    "    if choice == '1':\n",
    "        result = login()\n",
    "        if result == 'Username does not exist. Please create an account.':\n",
    "            print(result)\n",
    "            resultnew = sign_up() #if user doesn't exist in the file when you try to login, you are propmpted to create an account\n",
    "            print(resultnew)\n",
    "        else:\n",
    "            print(result)\n",
    "            \n",
    "    # Sign up\n",
    "    elif choice == '2':\n",
    "        result = sign_up()\n",
    "        print(result)\n",
    "        \n",
    "    # Exit\n",
    "    elif choice == '3':\n",
    "        break\n",
    "        \n",
    "    # Invalid input\n",
    "    else:\n",
    "        print('Invalid Input. Please enter either 1, 2, or 3.')"
   ]
  },
  {
   "cell_type": "markdown",
   "id": "eca95b07",
   "metadata": {},
   "source": [
    "#### Testing how the functions run"
   ]
  },
  {
   "cell_type": "code",
   "execution_count": 16,
   "id": "59492802",
   "metadata": {},
   "outputs": [
    {
     "name": "stdout",
     "output_type": "stream",
     "text": [
      "Enter your username: Sarah\n",
      "Enter your password: pass\n",
      "Wrong password. Please try again.\n",
      "Enter your password: D00N\n",
      "Wrong password. Please enter your password: 12ssr\n"
     ]
    },
    {
     "data": {
      "text/plain": [
       "'Successful Login. Welcome Sarah.'"
      ]
     },
     "execution_count": 16,
     "metadata": {},
     "output_type": "execute_result"
    }
   ],
   "source": [
    "login()"
   ]
  },
  {
   "cell_type": "code",
   "execution_count": 11,
   "id": "ff015370",
   "metadata": {},
   "outputs": [
    {
     "name": "stdout",
     "output_type": "stream",
     "text": [
      "Enter your username: Nathan\n",
      "Username already exists. Please choose another username.\n",
      "Enter your username: Ethan\n",
      "Choose your password: fpc\n"
     ]
    },
    {
     "data": {
      "text/plain": [
       "'Account created successfully!'"
      ]
     },
     "execution_count": 11,
     "metadata": {},
     "output_type": "execute_result"
    }
   ],
   "source": [
    "sign_up()"
   ]
  },
  {
   "cell_type": "code",
   "execution_count": null,
   "id": "5fdec5df",
   "metadata": {},
   "outputs": [],
   "source": []
  }
 ],
 "metadata": {
  "kernelspec": {
   "display_name": "Python 3 (ipykernel)",
   "language": "python",
   "name": "python3"
  },
  "language_info": {
   "codemirror_mode": {
    "name": "ipython",
    "version": 3
   },
   "file_extension": ".py",
   "mimetype": "text/x-python",
   "name": "python",
   "nbconvert_exporter": "python",
   "pygments_lexer": "ipython3",
   "version": "3.9.13"
  }
 },
 "nbformat": 4,
 "nbformat_minor": 5
}
